{
  "cells": [
    {
      "cell_type": "code",
      "source": [
        "from google.colab import drive\n",
        "drive.mount('/content/drive')"
      ],
      "metadata": {
        "colab": {
          "base_uri": "https://localhost:8080/"
        },
        "id": "5TwLFZPtOpkf",
        "outputId": "be337653-94e1-4b39-963c-57aefec22c6d"
      },
      "id": "5TwLFZPtOpkf",
      "execution_count": 1,
      "outputs": [
        {
          "output_type": "stream",
          "name": "stdout",
          "text": [
            "Drive already mounted at /content/drive; to attempt to forcibly remount, call drive.mount(\"/content/drive\", force_remount=True).\n"
          ]
        }
      ]
    },
    {
      "cell_type": "code",
      "execution_count": 2,
      "id": "859640d3",
      "metadata": {
        "id": "859640d3"
      },
      "outputs": [],
      "source": [
        "import numpy as np\n",
        "import matplotlib.pyplot as plt\n",
        "import pandas as pd\n",
        "import math\n",
        "import datetime as dt\n",
        "import seaborn as sns\n",
        "from sklearn.preprocessing import MinMaxScaler\n",
        "\n",
        "from tensorflow.keras import Sequential\n",
        "from tensorflow.keras.layers import Dense, LSTM, Dropout, SimpleRNN\n",
        "\n",
        "from sklearn.metrics import mean_squared_error, mean_absolute_error, explained_variance_score, r2_score"
      ]
    },
    {
      "cell_type": "code",
      "execution_count": 3,
      "id": "481fcc39",
      "metadata": {
        "colab": {
          "base_uri": "https://localhost:8080/",
          "height": 424
        },
        "id": "481fcc39",
        "outputId": "b8b7029a-bbff-43ec-d2f0-a0c4873673e8"
      },
      "outputs": [
        {
          "output_type": "execute_result",
          "data": {
            "text/plain": [
              "            Date        Open        High         Low       Close   Adj Close  \\\n",
              "0     2019-11-30   16.263498   16.370699   15.539147   15.715951   15.715951   \n",
              "1     2019-12-01   15.743181   15.743181   15.054234   15.496336   15.496336   \n",
              "2     2019-12-02   15.509364   15.707174   15.152545   15.191858   15.191858   \n",
              "3     2019-12-03   15.191858   15.553175   15.048669   15.309556   15.309556   \n",
              "4     2019-12-04   15.348430   15.690587   15.009685   15.279978   15.279978   \n",
              "...          ...         ...         ...         ...         ...         ...   \n",
              "1092  2022-11-26  300.571747  316.962128  300.389465  311.388458  311.388458   \n",
              "1093  2022-11-27  311.372040  316.219879  307.156372  307.429291  307.429291   \n",
              "1094  2022-11-28  307.399567  309.096100  289.493683  293.527252  293.527252   \n",
              "1095  2022-11-29  293.491821  304.822815  289.763641  295.498169  295.498169   \n",
              "1096  2022-11-30  295.548218  304.650970  294.382263  300.794342  300.794342   \n",
              "\n",
              "          Volume  \n",
              "0      213428131  \n",
              "1      203268417  \n",
              "2      200809249  \n",
              "3      219927266  \n",
              "4      237605471  \n",
              "...          ...  \n",
              "1092  1221554861  \n",
              "1093   793779029  \n",
              "1094  1154829072  \n",
              "1095   986451640  \n",
              "1096  1009620336  \n",
              "\n",
              "[1097 rows x 7 columns]"
            ],
            "text/html": [
              "\n",
              "  <div id=\"df-dce48d05-0bdf-47ed-b28d-136fc4ad7cad\">\n",
              "    <div class=\"colab-df-container\">\n",
              "      <div>\n",
              "<style scoped>\n",
              "    .dataframe tbody tr th:only-of-type {\n",
              "        vertical-align: middle;\n",
              "    }\n",
              "\n",
              "    .dataframe tbody tr th {\n",
              "        vertical-align: top;\n",
              "    }\n",
              "\n",
              "    .dataframe thead th {\n",
              "        text-align: right;\n",
              "    }\n",
              "</style>\n",
              "<table border=\"1\" class=\"dataframe\">\n",
              "  <thead>\n",
              "    <tr style=\"text-align: right;\">\n",
              "      <th></th>\n",
              "      <th>Date</th>\n",
              "      <th>Open</th>\n",
              "      <th>High</th>\n",
              "      <th>Low</th>\n",
              "      <th>Close</th>\n",
              "      <th>Adj Close</th>\n",
              "      <th>Volume</th>\n",
              "    </tr>\n",
              "  </thead>\n",
              "  <tbody>\n",
              "    <tr>\n",
              "      <th>0</th>\n",
              "      <td>2019-11-30</td>\n",
              "      <td>16.263498</td>\n",
              "      <td>16.370699</td>\n",
              "      <td>15.539147</td>\n",
              "      <td>15.715951</td>\n",
              "      <td>15.715951</td>\n",
              "      <td>213428131</td>\n",
              "    </tr>\n",
              "    <tr>\n",
              "      <th>1</th>\n",
              "      <td>2019-12-01</td>\n",
              "      <td>15.743181</td>\n",
              "      <td>15.743181</td>\n",
              "      <td>15.054234</td>\n",
              "      <td>15.496336</td>\n",
              "      <td>15.496336</td>\n",
              "      <td>203268417</td>\n",
              "    </tr>\n",
              "    <tr>\n",
              "      <th>2</th>\n",
              "      <td>2019-12-02</td>\n",
              "      <td>15.509364</td>\n",
              "      <td>15.707174</td>\n",
              "      <td>15.152545</td>\n",
              "      <td>15.191858</td>\n",
              "      <td>15.191858</td>\n",
              "      <td>200809249</td>\n",
              "    </tr>\n",
              "    <tr>\n",
              "      <th>3</th>\n",
              "      <td>2019-12-03</td>\n",
              "      <td>15.191858</td>\n",
              "      <td>15.553175</td>\n",
              "      <td>15.048669</td>\n",
              "      <td>15.309556</td>\n",
              "      <td>15.309556</td>\n",
              "      <td>219927266</td>\n",
              "    </tr>\n",
              "    <tr>\n",
              "      <th>4</th>\n",
              "      <td>2019-12-04</td>\n",
              "      <td>15.348430</td>\n",
              "      <td>15.690587</td>\n",
              "      <td>15.009685</td>\n",
              "      <td>15.279978</td>\n",
              "      <td>15.279978</td>\n",
              "      <td>237605471</td>\n",
              "    </tr>\n",
              "    <tr>\n",
              "      <th>...</th>\n",
              "      <td>...</td>\n",
              "      <td>...</td>\n",
              "      <td>...</td>\n",
              "      <td>...</td>\n",
              "      <td>...</td>\n",
              "      <td>...</td>\n",
              "      <td>...</td>\n",
              "    </tr>\n",
              "    <tr>\n",
              "      <th>1092</th>\n",
              "      <td>2022-11-26</td>\n",
              "      <td>300.571747</td>\n",
              "      <td>316.962128</td>\n",
              "      <td>300.389465</td>\n",
              "      <td>311.388458</td>\n",
              "      <td>311.388458</td>\n",
              "      <td>1221554861</td>\n",
              "    </tr>\n",
              "    <tr>\n",
              "      <th>1093</th>\n",
              "      <td>2022-11-27</td>\n",
              "      <td>311.372040</td>\n",
              "      <td>316.219879</td>\n",
              "      <td>307.156372</td>\n",
              "      <td>307.429291</td>\n",
              "      <td>307.429291</td>\n",
              "      <td>793779029</td>\n",
              "    </tr>\n",
              "    <tr>\n",
              "      <th>1094</th>\n",
              "      <td>2022-11-28</td>\n",
              "      <td>307.399567</td>\n",
              "      <td>309.096100</td>\n",
              "      <td>289.493683</td>\n",
              "      <td>293.527252</td>\n",
              "      <td>293.527252</td>\n",
              "      <td>1154829072</td>\n",
              "    </tr>\n",
              "    <tr>\n",
              "      <th>1095</th>\n",
              "      <td>2022-11-29</td>\n",
              "      <td>293.491821</td>\n",
              "      <td>304.822815</td>\n",
              "      <td>289.763641</td>\n",
              "      <td>295.498169</td>\n",
              "      <td>295.498169</td>\n",
              "      <td>986451640</td>\n",
              "    </tr>\n",
              "    <tr>\n",
              "      <th>1096</th>\n",
              "      <td>2022-11-30</td>\n",
              "      <td>295.548218</td>\n",
              "      <td>304.650970</td>\n",
              "      <td>294.382263</td>\n",
              "      <td>300.794342</td>\n",
              "      <td>300.794342</td>\n",
              "      <td>1009620336</td>\n",
              "    </tr>\n",
              "  </tbody>\n",
              "</table>\n",
              "<p>1097 rows × 7 columns</p>\n",
              "</div>\n",
              "      <button class=\"colab-df-convert\" onclick=\"convertToInteractive('df-dce48d05-0bdf-47ed-b28d-136fc4ad7cad')\"\n",
              "              title=\"Convert this dataframe to an interactive table.\"\n",
              "              style=\"display:none;\">\n",
              "        \n",
              "  <svg xmlns=\"http://www.w3.org/2000/svg\" height=\"24px\"viewBox=\"0 0 24 24\"\n",
              "       width=\"24px\">\n",
              "    <path d=\"M0 0h24v24H0V0z\" fill=\"none\"/>\n",
              "    <path d=\"M18.56 5.44l.94 2.06.94-2.06 2.06-.94-2.06-.94-.94-2.06-.94 2.06-2.06.94zm-11 1L8.5 8.5l.94-2.06 2.06-.94-2.06-.94L8.5 2.5l-.94 2.06-2.06.94zm10 10l.94 2.06.94-2.06 2.06-.94-2.06-.94-.94-2.06-.94 2.06-2.06.94z\"/><path d=\"M17.41 7.96l-1.37-1.37c-.4-.4-.92-.59-1.43-.59-.52 0-1.04.2-1.43.59L10.3 9.45l-7.72 7.72c-.78.78-.78 2.05 0 2.83L4 21.41c.39.39.9.59 1.41.59.51 0 1.02-.2 1.41-.59l7.78-7.78 2.81-2.81c.8-.78.8-2.07 0-2.86zM5.41 20L4 18.59l7.72-7.72 1.47 1.35L5.41 20z\"/>\n",
              "  </svg>\n",
              "      </button>\n",
              "      \n",
              "  <style>\n",
              "    .colab-df-container {\n",
              "      display:flex;\n",
              "      flex-wrap:wrap;\n",
              "      gap: 12px;\n",
              "    }\n",
              "\n",
              "    .colab-df-convert {\n",
              "      background-color: #E8F0FE;\n",
              "      border: none;\n",
              "      border-radius: 50%;\n",
              "      cursor: pointer;\n",
              "      display: none;\n",
              "      fill: #1967D2;\n",
              "      height: 32px;\n",
              "      padding: 0 0 0 0;\n",
              "      width: 32px;\n",
              "    }\n",
              "\n",
              "    .colab-df-convert:hover {\n",
              "      background-color: #E2EBFA;\n",
              "      box-shadow: 0px 1px 2px rgba(60, 64, 67, 0.3), 0px 1px 3px 1px rgba(60, 64, 67, 0.15);\n",
              "      fill: #174EA6;\n",
              "    }\n",
              "\n",
              "    [theme=dark] .colab-df-convert {\n",
              "      background-color: #3B4455;\n",
              "      fill: #D2E3FC;\n",
              "    }\n",
              "\n",
              "    [theme=dark] .colab-df-convert:hover {\n",
              "      background-color: #434B5C;\n",
              "      box-shadow: 0px 1px 3px 1px rgba(0, 0, 0, 0.15);\n",
              "      filter: drop-shadow(0px 1px 2px rgba(0, 0, 0, 0.3));\n",
              "      fill: #FFFFFF;\n",
              "    }\n",
              "  </style>\n",
              "\n",
              "      <script>\n",
              "        const buttonEl =\n",
              "          document.querySelector('#df-dce48d05-0bdf-47ed-b28d-136fc4ad7cad button.colab-df-convert');\n",
              "        buttonEl.style.display =\n",
              "          google.colab.kernel.accessAllowed ? 'block' : 'none';\n",
              "\n",
              "        async function convertToInteractive(key) {\n",
              "          const element = document.querySelector('#df-dce48d05-0bdf-47ed-b28d-136fc4ad7cad');\n",
              "          const dataTable =\n",
              "            await google.colab.kernel.invokeFunction('convertToInteractive',\n",
              "                                                     [key], {});\n",
              "          if (!dataTable) return;\n",
              "\n",
              "          const docLinkHtml = 'Like what you see? Visit the ' +\n",
              "            '<a target=\"_blank\" href=https://colab.research.google.com/notebooks/data_table.ipynb>data table notebook</a>'\n",
              "            + ' to learn more about interactive tables.';\n",
              "          element.innerHTML = '';\n",
              "          dataTable['output_type'] = 'display_data';\n",
              "          await google.colab.output.renderOutput(dataTable, element);\n",
              "          const docLink = document.createElement('div');\n",
              "          docLink.innerHTML = docLinkHtml;\n",
              "          element.appendChild(docLink);\n",
              "        }\n",
              "      </script>\n",
              "    </div>\n",
              "  </div>\n",
              "  "
            ]
          },
          "metadata": {},
          "execution_count": 3
        }
      ],
      "source": [
        "data = pd.read_csv('/content/drive/MyDrive/Crypto/test_2/BinanceCoin/BNB-USD.csv', date_parser = True)\n",
        "data"
      ]
    },
    {
      "cell_type": "markdown",
      "id": "f3b6cee5",
      "metadata": {
        "id": "f3b6cee5"
      },
      "source": [
        "# **Data Pre-processing**"
      ]
    },
    {
      "cell_type": "code",
      "execution_count": 4,
      "id": "623e7101",
      "metadata": {
        "id": "623e7101"
      },
      "outputs": [],
      "source": [
        "#Replace None or Null values with forward filling technique using fillna function.\n",
        "\n",
        "data = data.fillna(method = 'ffill')"
      ]
    },
    {
      "cell_type": "code",
      "execution_count": 5,
      "id": "9c2fad73",
      "metadata": {
        "id": "9c2fad73"
      },
      "outputs": [],
      "source": [
        "#Convert Date column into Datatime format\n",
        "\n",
        "data['Date'] = pd.to_datetime(data.Date)"
      ]
    },
    {
      "cell_type": "markdown",
      "source": [
        "# **Data Visualization**"
      ],
      "metadata": {
        "id": "KdNxRom6OVUt"
      },
      "id": "KdNxRom6OVUt"
    },
    {
      "cell_type": "code",
      "execution_count": 6,
      "id": "d5df5598",
      "metadata": {
        "colab": {
          "base_uri": "https://localhost:8080/",
          "height": 517
        },
        "id": "d5df5598",
        "outputId": "ab490cd0-6a28-4655-ad91-8a286c14c669"
      },
      "outputs": [
        {
          "output_type": "display_data",
          "data": {
            "text/plain": [
              "<Figure size 1152x576 with 1 Axes>"
            ],
            "image/png": "[encoded data removed]"
          },
          "metadata": {
            "needs_background": "light"
          }
        }
      ],
      "source": [
        "# Visualize the close price history\n",
        "plt.figure(figsize=(16, 8))\n",
        "plt.plot(data['Date'], data['Close'], color=\"red\")\n",
        "plt.title('BinanceCoin Close Price')\n",
        "plt.xlabel(\"Time\", fontsize=14,)\n",
        "plt.ylabel(\"USDT\", fontsize=14)\n",
        "plt.show()"
      ]
    },
    {
      "cell_type": "markdown",
      "source": [
        "# **Data Spliting**"
      ],
      "metadata": {
        "id": "9P_6ncuxOxI9"
      },
      "id": "9P_6ncuxOxI9"
    },
    {
      "cell_type": "code",
      "execution_count": 7,
      "id": "d50820ac",
      "metadata": {
        "colab": {
          "base_uri": "https://localhost:8080/",
          "height": 424
        },
        "id": "d50820ac",
        "outputId": "509f6e56-6e58-4021-8358-0d1c060bb799"
      },
      "outputs": [
        {
          "output_type": "execute_result",
          "data": {
            "text/plain": [
              "          Date        Open        High         Low       Close   Adj Close  \\\n",
              "0   2019-11-30   16.263498   16.370699   15.539147   15.715951   15.715951   \n",
              "1   2019-12-01   15.743181   15.743181   15.054234   15.496336   15.496336   \n",
              "2   2019-12-02   15.509364   15.707174   15.152545   15.191858   15.191858   \n",
              "3   2019-12-03   15.191858   15.553175   15.048669   15.309556   15.309556   \n",
              "4   2019-12-04   15.348430   15.690587   15.009685   15.279978   15.279978   \n",
              "..         ...         ...         ...         ...         ...         ...   \n",
              "846 2022-03-25  414.148254  421.153717  406.296051  410.811157  410.811157   \n",
              "847 2022-03-26  410.816254  416.317535  407.981262  415.919800  415.919800   \n",
              "848 2022-03-27  415.931366  431.025574  412.382904  430.503265  430.503265   \n",
              "849 2022-03-28  430.546814  440.728394  428.565216  430.390869  430.390869   \n",
              "850 2022-03-29  430.074890  441.507538  430.074890  434.505676  434.505676   \n",
              "\n",
              "         Volume  \n",
              "0     213428131  \n",
              "1     203268417  \n",
              "2     200809249  \n",
              "3     219927266  \n",
              "4     237605471  \n",
              "..          ...  \n",
              "846  1678265707  \n",
              "847  1082240527  \n",
              "848  1499505093  \n",
              "849  2128699500  \n",
              "850  1987696098  \n",
              "\n",
              "[851 rows x 7 columns]"
            ],
            "text/html": [
              "\n",
              "  <div id=\"df-7bac9c9e-2292-4707-882b-467b4d95b8e2\">\n",
              "    <div class=\"colab-df-container\">\n",
              "      <div>\n",
              "<style scoped>\n",
              "    .dataframe tbody tr th:only-of-type {\n",
              "        vertical-align: middle;\n",
              "    }\n",
              "\n",
              "    .dataframe tbody tr th {\n",
              "        vertical-align: top;\n",
              "    }\n",
              "\n",
              "    .dataframe thead th {\n",
              "        text-align: right;\n",
              "    }\n",
              "</style>\n",
              "<table border=\"1\" class=\"dataframe\">\n",
              "  <thead>\n",
              "    <tr style=\"text-align: right;\">\n",
              "      <th></th>\n",
              "      <th>Date</th>\n",
              "      <th>Open</th>\n",
              "      <th>High</th>\n",
              "      <th>Low</th>\n",
              "      <th>Close</th>\n",
              "      <th>Adj Close</th>\n",
              "      <th>Volume</th>\n",
              "    </tr>\n",
              "  </thead>\n",
              "  <tbody>\n",
              "    <tr>\n",
              "      <th>0</th>\n",
              "      <td>2019-11-30</td>\n",
              "      <td>16.263498</td>\n",
              "      <td>16.370699</td>\n",
              "      <td>15.539147</td>\n",
              "      <td>15.715951</td>\n",
              "      <td>15.715951</td>\n",
              "      <td>213428131</td>\n",
              "    </tr>\n",
              "    <tr>\n",
              "      <th>1</th>\n",
              "      <td>2019-12-01</td>\n",
              "      <td>15.743181</td>\n",
              "      <td>15.743181</td>\n",
              "      <td>15.054234</td>\n",
              "      <td>15.496336</td>\n",
              "      <td>15.496336</td>\n",
              "      <td>203268417</td>\n",
              "    </tr>\n",
              "    <tr>\n",
              "      <th>2</th>\n",
              "      <td>2019-12-02</td>\n",
              "      <td>15.509364</td>\n",
              "      <td>15.707174</td>\n",
              "      <td>15.152545</td>\n",
              "      <td>15.191858</td>\n",
              "      <td>15.191858</td>\n",
              "      <td>200809249</td>\n",
              "    </tr>\n",
              "    <tr>\n",
              "      <th>3</th>\n",
              "      <td>2019-12-03</td>\n",
              "      <td>15.191858</td>\n",
              "      <td>15.553175</td>\n",
              "      <td>15.048669</td>\n",
              "      <td>15.309556</td>\n",
              "      <td>15.309556</td>\n",
              "      <td>219927266</td>\n",
              "    </tr>\n",
              "    <tr>\n",
              "      <th>4</th>\n",
              "      <td>2019-12-04</td>\n",
              "      <td>15.348430</td>\n",
              "      <td>15.690587</td>\n",
              "      <td>15.009685</td>\n",
              "      <td>15.279978</td>\n",
              "      <td>15.279978</td>\n",
              "      <td>237605471</td>\n",
              "    </tr>\n",
              "    <tr>\n",
              "      <th>...</th>\n",
              "      <td>...</td>\n",
              "      <td>...</td>\n",
              "      <td>...</td>\n",
              "      <td>...</td>\n",
              "      <td>...</td>\n",
              "      <td>...</td>\n",
              "      <td>...</td>\n",
              "    </tr>\n",
              "    <tr>\n",
              "      <th>846</th>\n",
              "      <td>2022-03-25</td>\n",
              "      <td>414.148254</td>\n",
              "      <td>421.153717</td>\n",
              "      <td>406.296051</td>\n",
              "      <td>410.811157</td>\n",
              "      <td>410.811157</td>\n",
              "      <td>1678265707</td>\n",
              "    </tr>\n",
              "    <tr>\n",
              "      <th>847</th>\n",
              "      <td>2022-03-26</td>\n",
              "      <td>410.816254</td>\n",
              "      <td>416.317535</td>\n",
              "      <td>407.981262</td>\n",
              "      <td>415.919800</td>\n",
              "      <td>415.919800</td>\n",
              "      <td>1082240527</td>\n",
              "    </tr>\n",
              "    <tr>\n",
              "      <th>848</th>\n",
              "      <td>2022-03-27</td>\n",
              "      <td>415.931366</td>\n",
              "      <td>431.025574</td>\n",
              "      <td>412.382904</td>\n",
              "      <td>430.503265</td>\n",
              "      <td>430.503265</td>\n",
              "      <td>1499505093</td>\n",
              "    </tr>\n",
              "    <tr>\n",
              "      <th>849</th>\n",
              "      <td>2022-03-28</td>\n",
              "      <td>430.546814</td>\n",
              "      <td>440.728394</td>\n",
              "      <td>428.565216</td>\n",
              "      <td>430.390869</td>\n",
              "      <td>430.390869</td>\n",
              "      <td>2128699500</td>\n",
              "    </tr>\n",
              "    <tr>\n",
              "      <th>850</th>\n",
              "      <td>2022-03-29</td>\n",
              "      <td>430.074890</td>\n",
              "      <td>441.507538</td>\n",
              "      <td>430.074890</td>\n",
              "      <td>434.505676</td>\n",
              "      <td>434.505676</td>\n",
              "      <td>1987696098</td>\n",
              "    </tr>\n",
              "  </tbody>\n",
              "</table>\n",
              "<p>851 rows × 7 columns</p>\n",
              "</div>\n",
              "      <button class=\"colab-df-convert\" onclick=\"convertToInteractive('df-7bac9c9e-2292-4707-882b-467b4d95b8e2')\"\n",
              "              title=\"Convert this dataframe to an interactive table.\"\n",
              "              style=\"display:none;\">\n",
              "        \n",
              "  <svg xmlns=\"http://www.w3.org/2000/svg\" height=\"24px\"viewBox=\"0 0 24 24\"\n",
              "       width=\"24px\">\n",
              "    <path d=\"M0 0h24v24H0V0z\" fill=\"none\"/>\n",
              "    <path d=\"M18.56 5.44l.94 2.06.94-2.06 2.06-.94-2.06-.94-.94-2.06-.94 2.06-2.06.94zm-11 1L8.5 8.5l.94-2.06 2.06-.94-2.06-.94L8.5 2.5l-.94 2.06-2.06.94zm10 10l.94 2.06.94-2.06 2.06-.94-2.06-.94-.94-2.06-.94 2.06-2.06.94z\"/><path d=\"M17.41 7.96l-1.37-1.37c-.4-.4-.92-.59-1.43-.59-.52 0-1.04.2-1.43.59L10.3 9.45l-7.72 7.72c-.78.78-.78 2.05 0 2.83L4 21.41c.39.39.9.59 1.41.59.51 0 1.02-.2 1.41-.59l7.78-7.78 2.81-2.81c.8-.78.8-2.07 0-2.86zM5.41 20L4 18.59l7.72-7.72 1.47 1.35L5.41 20z\"/>\n",
              "  </svg>\n",
              "      </button>\n",
              "      \n",
              "  <style>\n",
              "    .colab-df-container {\n",
              "      display:flex;\n",
              "      flex-wrap:wrap;\n",
              "      gap: 12px;\n",
              "    }\n",
              "\n",
              "    .colab-df-convert {\n",
              "      background-color: #E8F0FE;\n",
              "      border: none;\n",
              "      border-radius: 50%;\n",
              "      cursor: pointer;\n",
              "      display: none;\n",
              "      fill: #1967D2;\n",
              "      height: 32px;\n",
              "      padding: 0 0 0 0;\n",
              "      width: 32px;\n",
              "    }\n",
              "\n",
              "    .colab-df-convert:hover {\n",
              "      background-color: #E2EBFA;\n",
              "      box-shadow: 0px 1px 2px rgba(60, 64, 67, 0.3), 0px 1px 3px 1px rgba(60, 64, 67, 0.15);\n",
              "      fill: #174EA6;\n",
              "    }\n",
              "\n",
              "    [theme=dark] .colab-df-convert {\n",
              "      background-color: #3B4455;\n",
              "      fill: #D2E3FC;\n",
              "    }\n",
              "\n",
              "    [theme=dark] .colab-df-convert:hover {\n",
              "      background-color: #434B5C;\n",
              "      box-shadow: 0px 1px 3px 1px rgba(0, 0, 0, 0.15);\n",
              "      filter: drop-shadow(0px 1px 2px rgba(0, 0, 0, 0.3));\n",
              "      fill: #FFFFFF;\n",
              "    }\n",
              "  </style>\n",
              "\n",
              "      <script>\n",
              "        const buttonEl =\n",
              "          document.querySelector('#df-7bac9c9e-2292-4707-882b-467b4d95b8e2 button.colab-df-convert');\n",
              "        buttonEl.style.display =\n",
              "          google.colab.kernel.accessAllowed ? 'block' : 'none';\n",
              "\n",
              "        async function convertToInteractive(key) {\n",
              "          const element = document.querySelector('#df-7bac9c9e-2292-4707-882b-467b4d95b8e2');\n",
              "          const dataTable =\n",
              "            await google.colab.kernel.invokeFunction('convertToInteractive',\n",
              "                                                     [key], {});\n",
              "          if (!dataTable) return;\n",
              "\n",
              "          const docLinkHtml = 'Like what you see? Visit the ' +\n",
              "            '<a target=\"_blank\" href=https://colab.research.google.com/notebooks/data_table.ipynb>data table notebook</a>'\n",
              "            + ' to learn more about interactive tables.';\n",
              "          element.innerHTML = '';\n",
              "          dataTable['output_type'] = 'display_data';\n",
              "          await google.colab.output.renderOutput(dataTable, element);\n",
              "          const docLink = document.createElement('div');\n",
              "          docLink.innerHTML = docLinkHtml;\n",
              "          element.appendChild(docLink);\n",
              "        }\n",
              "      </script>\n",
              "    </div>\n",
              "  </div>\n",
              "  "
            ]
          },
          "metadata": {},
          "execution_count": 7
        }
      ],
      "source": [
        "data_training = data[data['Date']< '2022-03-30'].copy()\n",
        "data_training"
      ]
    },
    {
      "cell_type": "code",
      "execution_count": 8,
      "id": "6b757a5e",
      "metadata": {
        "colab": {
          "base_uri": "https://localhost:8080/",
          "height": 424
        },
        "id": "6b757a5e",
        "outputId": "e08e02ca-c17c-4473-ff52-65cd2d1a8019"
      },
      "outputs": [
        {
          "output_type": "execute_result",
          "data": {
            "text/plain": [
              "           Date        Open        High         Low       Close   Adj Close  \\\n",
              "852  2022-03-31  442.658875  451.961090  424.950287  428.916107  428.916107   \n",
              "853  2022-04-01  429.124023  446.796539  414.749390  446.604279  446.604279   \n",
              "854  2022-04-02  446.844208  453.558472  436.776703  436.955353  436.955353   \n",
              "855  2022-04-03  436.865814  455.228455  432.821716  450.348877  450.348877   \n",
              "856  2022-04-04  450.264557  450.432617  434.178009  447.524933  447.524933   \n",
              "...         ...         ...         ...         ...         ...         ...   \n",
              "1092 2022-11-26  300.571747  316.962128  300.389465  311.388458  311.388458   \n",
              "1093 2022-11-27  311.372040  316.219879  307.156372  307.429291  307.429291   \n",
              "1094 2022-11-28  307.399567  309.096100  289.493683  293.527252  293.527252   \n",
              "1095 2022-11-29  293.491821  304.822815  289.763641  295.498169  295.498169   \n",
              "1096 2022-11-30  295.548218  304.650970  294.382263  300.794342  300.794342   \n",
              "\n",
              "          Volume  \n",
              "852   2632534284  \n",
              "853   2718206274  \n",
              "854   2272901729  \n",
              "855   2128734028  \n",
              "856   2248856403  \n",
              "...          ...  \n",
              "1092  1221554861  \n",
              "1093   793779029  \n",
              "1094  1154829072  \n",
              "1095   986451640  \n",
              "1096  1009620336  \n",
              "\n",
              "[245 rows x 7 columns]"
            ],
            "text/html": [
              "\n",
              "  <div id=\"df-a65bc760-7534-41b9-a1e6-cc5b4c13fc3e\">\n",
              "    <div class=\"colab-df-container\">\n",
              "      <div>\n",
              "<style scoped>\n",
              "    .dataframe tbody tr th:only-of-type {\n",
              "        vertical-align: middle;\n",
              "    }\n",
              "\n",
              "    .dataframe tbody tr th {\n",
              "        vertical-align: top;\n",
              "    }\n",
              "\n",
              "    .dataframe thead th {\n",
              "        text-align: right;\n",
              "    }\n",
              "</style>\n",
              "<table border=\"1\" class=\"dataframe\">\n",
              "  <thead>\n",
              "    <tr style=\"text-align: right;\">\n",
              "      <th></th>\n",
              "      <th>Date</th>\n",
              "      <th>Open</th>\n",
              "      <th>High</th>\n",
              "      <th>Low</th>\n",
              "      <th>Close</th>\n",
              "      <th>Adj Close</th>\n",
              "      <th>Volume</th>\n",
              "    </tr>\n",
              "  </thead>\n",
              "  <tbody>\n",
              "    <tr>\n",
              "      <th>852</th>\n",
              "      <td>2022-03-31</td>\n",
              "      <td>442.658875</td>\n",
              "      <td>451.961090</td>\n",
              "      <td>424.950287</td>\n",
              "      <td>428.916107</td>\n",
              "      <td>428.916107</td>\n",
              "      <td>2632534284</td>\n",
              "    </tr>\n",
              "    <tr>\n",
              "      <th>853</th>\n",
              "      <td>2022-04-01</td>\n",
              "      <td>429.124023</td>\n",
              "      <td>446.796539</td>\n",
              "      <td>414.749390</td>\n",
              "      <td>446.604279</td>\n",
              "      <td>446.604279</td>\n",
              "      <td>2718206274</td>\n",
              "    </tr>\n",
              "    <tr>\n",
              "      <th>854</th>\n",
              "      <td>2022-04-02</td>\n",
              "      <td>446.844208</td>\n",
              "      <td>453.558472</td>\n",
              "      <td>436.776703</td>\n",
              "      <td>436.955353</td>\n",
              "      <td>436.955353</td>\n",
              "      <td>2272901729</td>\n",
              "    </tr>\n",
              "    <tr>\n",
              "      <th>855</th>\n",
              "      <td>2022-04-03</td>\n",
              "      <td>436.865814</td>\n",
              "      <td>455.228455</td>\n",
              "      <td>432.821716</td>\n",
              "      <td>450.348877</td>\n",
              "      <td>450.348877</td>\n",
              "      <td>2128734028</td>\n",
              "    </tr>\n",
              "    <tr>\n",
              "      <th>856</th>\n",
              "      <td>2022-04-04</td>\n",
              "      <td>450.264557</td>\n",
              "      <td>450.432617</td>\n",
              "      <td>434.178009</td>\n",
              "      <td>447.524933</td>\n",
              "      <td>447.524933</td>\n",
              "      <td>2248856403</td>\n",
              "    </tr>\n",
              "    <tr>\n",
              "      <th>...</th>\n",
              "      <td>...</td>\n",
              "      <td>...</td>\n",
              "      <td>...</td>\n",
              "      <td>...</td>\n",
              "      <td>...</td>\n",
              "      <td>...</td>\n",
              "      <td>...</td>\n",
              "    </tr>\n",
              "    <tr>\n",
              "      <th>1092</th>\n",
              "      <td>2022-11-26</td>\n",
              "      <td>300.571747</td>\n",
              "      <td>316.962128</td>\n",
              "      <td>300.389465</td>\n",
              "      <td>311.388458</td>\n",
              "      <td>311.388458</td>\n",
              "      <td>1221554861</td>\n",
              "    </tr>\n",
              "    <tr>\n",
              "      <th>1093</th>\n",
              "      <td>2022-11-27</td>\n",
              "      <td>311.372040</td>\n",
              "      <td>316.219879</td>\n",
              "      <td>307.156372</td>\n",
              "      <td>307.429291</td>\n",
              "      <td>307.429291</td>\n",
              "      <td>793779029</td>\n",
              "    </tr>\n",
              "    <tr>\n",
              "      <th>1094</th>\n",
              "      <td>2022-11-28</td>\n",
              "      <td>307.399567</td>\n",
              "      <td>309.096100</td>\n",
              "      <td>289.493683</td>\n",
              "      <td>293.527252</td>\n",
              "      <td>293.527252</td>\n",
              "      <td>1154829072</td>\n",
              "    </tr>\n",
              "    <tr>\n",
              "      <th>1095</th>\n",
              "      <td>2022-11-29</td>\n",
              "      <td>293.491821</td>\n",
              "      <td>304.822815</td>\n",
              "      <td>289.763641</td>\n",
              "      <td>295.498169</td>\n",
              "      <td>295.498169</td>\n",
              "      <td>986451640</td>\n",
              "    </tr>\n",
              "    <tr>\n",
              "      <th>1096</th>\n",
              "      <td>2022-11-30</td>\n",
              "      <td>295.548218</td>\n",
              "      <td>304.650970</td>\n",
              "      <td>294.382263</td>\n",
              "      <td>300.794342</td>\n",
              "      <td>300.794342</td>\n",
              "      <td>1009620336</td>\n",
              "    </tr>\n",
              "  </tbody>\n",
              "</table>\n",
              "<p>245 rows × 7 columns</p>\n",
              "</div>\n",
              "      <button class=\"colab-df-convert\" onclick=\"convertToInteractive('df-a65bc760-7534-41b9-a1e6-cc5b4c13fc3e')\"\n",
              "              title=\"Convert this dataframe to an interactive table.\"\n",
              "              style=\"display:none;\">\n",
              "        \n",
              "  <svg xmlns=\"http://www.w3.org/2000/svg\" height=\"24px\"viewBox=\"0 0 24 24\"\n",
              "       width=\"24px\">\n",
              "    <path d=\"M0 0h24v24H0V0z\" fill=\"none\"/>\n",
              "    <path d=\"M18.56 5.44l.94 2.06.94-2.06 2.06-.94-2.06-.94-.94-2.06-.94 2.06-2.06.94zm-11 1L8.5 8.5l.94-2.06 2.06-.94-2.06-.94L8.5 2.5l-.94 2.06-2.06.94zm10 10l.94 2.06.94-2.06 2.06-.94-2.06-.94-.94-2.06-.94 2.06-2.06.94z\"/><path d=\"M17.41 7.96l-1.37-1.37c-.4-.4-.92-.59-1.43-.59-.52 0-1.04.2-1.43.59L10.3 9.45l-7.72 7.72c-.78.78-.78 2.05 0 2.83L4 21.41c.39.39.9.59 1.41.59.51 0 1.02-.2 1.41-.59l7.78-7.78 2.81-2.81c.8-.78.8-2.07 0-2.86zM5.41 20L4 18.59l7.72-7.72 1.47 1.35L5.41 20z\"/>\n",
              "  </svg>\n",
              "      </button>\n",
              "      \n",
              "  <style>\n",
              "    .colab-df-container {\n",
              "      display:flex;\n",
              "      flex-wrap:wrap;\n",
              "      gap: 12px;\n",
              "    }\n",
              "\n",
              "    .colab-df-convert {\n",
              "      background-color: #E8F0FE;\n",
              "      border: none;\n",
              "      border-radius: 50%;\n",
              "      cursor: pointer;\n",
              "      display: none;\n",
              "      fill: #1967D2;\n",
              "      height: 32px;\n",
              "      padding: 0 0 0 0;\n",
              "      width: 32px;\n",
              "    }\n",
              "\n",
              "    .colab-df-convert:hover {\n",
              "      background-color: #E2EBFA;\n",
              "      box-shadow: 0px 1px 2px rgba(60, 64, 67, 0.3), 0px 1px 3px 1px rgba(60, 64, 67, 0.15);\n",
              "      fill: #174EA6;\n",
              "    }\n",
              "\n",
              "    [theme=dark] .colab-df-convert {\n",
              "      background-color: #3B4455;\n",
              "      fill: #D2E3FC;\n",
              "    }\n",
              "\n",
              "    [theme=dark] .colab-df-convert:hover {\n",
              "      background-color: #434B5C;\n",
              "      box-shadow: 0px 1px 3px 1px rgba(0, 0, 0, 0.15);\n",
              "      filter: drop-shadow(0px 1px 2px rgba(0, 0, 0, 0.3));\n",
              "      fill: #FFFFFF;\n",
              "    }\n",
              "  </style>\n",
              "\n",
              "      <script>\n",
              "        const buttonEl =\n",
              "          document.querySelector('#df-a65bc760-7534-41b9-a1e6-cc5b4c13fc3e button.colab-df-convert');\n",
              "        buttonEl.style.display =\n",
              "          google.colab.kernel.accessAllowed ? 'block' : 'none';\n",
              "\n",
              "        async function convertToInteractive(key) {\n",
              "          const element = document.querySelector('#df-a65bc760-7534-41b9-a1e6-cc5b4c13fc3e');\n",
              "          const dataTable =\n",
              "            await google.colab.kernel.invokeFunction('convertToInteractive',\n",
              "                                                     [key], {});\n",
              "          if (!dataTable) return;\n",
              "\n",
              "          const docLinkHtml = 'Like what you see? Visit the ' +\n",
              "            '<a target=\"_blank\" href=https://colab.research.google.com/notebooks/data_table.ipynb>data table notebook</a>'\n",
              "            + ' to learn more about interactive tables.';\n",
              "          element.innerHTML = '';\n",
              "          dataTable['output_type'] = 'display_data';\n",
              "          await google.colab.output.renderOutput(dataTable, element);\n",
              "          const docLink = document.createElement('div');\n",
              "          docLink.innerHTML = docLinkHtml;\n",
              "          element.appendChild(docLink);\n",
              "        }\n",
              "      </script>\n",
              "    </div>\n",
              "  </div>\n",
              "  "
            ]
          },
          "metadata": {},
          "execution_count": 8
        }
      ],
      "source": [
        "data_test = data[data['Date']> '2022-03-30'].copy()\n",
        "data_test"
      ]
    },
    {
      "cell_type": "markdown",
      "source": [
        "# **Feature Engineering**"
      ],
      "metadata": {
        "id": "ET-9348SO-zi"
      },
      "id": "ET-9348SO-zi"
    },
    {
      "cell_type": "code",
      "execution_count": 9,
      "id": "c7c5de73",
      "metadata": {
        "colab": {
          "base_uri": "https://localhost:8080/",
          "height": 206
        },
        "id": "c7c5de73",
        "outputId": "40bb20e9-ff77-49dd-8127-2345e3ad1cbf"
      },
      "outputs": [
        {
          "output_type": "execute_result",
          "data": {
            "text/plain": [
              "        Open       High        Low      Close     Volume\n",
              "0  16.263498  16.370699  15.539147  15.715951  213428131\n",
              "1  15.743181  15.743181  15.054234  15.496336  203268417\n",
              "2  15.509364  15.707174  15.152545  15.191858  200809249\n",
              "3  15.191858  15.553175  15.048669  15.309556  219927266\n",
              "4  15.348430  15.690587  15.009685  15.279978  237605471"
            ],
            "text/html": [
              "\n",
              "  <div id=\"df-97a95ca4-2fa2-4fa3-a0ef-944b8ef0d943\">\n",
              "    <div class=\"colab-df-container\">\n",
              "      <div>\n",
              "<style scoped>\n",
              "    .dataframe tbody tr th:only-of-type {\n",
              "        vertical-align: middle;\n",
              "    }\n",
              "\n",
              "    .dataframe tbody tr th {\n",
              "        vertical-align: top;\n",
              "    }\n",
              "\n",
              "    .dataframe thead th {\n",
              "        text-align: right;\n",
              "    }\n",
              "</style>\n",
              "<table border=\"1\" class=\"dataframe\">\n",
              "  <thead>\n",
              "    <tr style=\"text-align: right;\">\n",
              "      <th></th>\n",
              "      <th>Open</th>\n",
              "      <th>High</th>\n",
              "      <th>Low</th>\n",
              "      <th>Close</th>\n",
              "      <th>Volume</th>\n",
              "    </tr>\n",
              "  </thead>\n",
              "  <tbody>\n",
              "    <tr>\n",
              "      <th>0</th>\n",
              "      <td>16.263498</td>\n",
              "      <td>16.370699</td>\n",
              "      <td>15.539147</td>\n",
              "      <td>15.715951</td>\n",
              "      <td>213428131</td>\n",
              "    </tr>\n",
              "    <tr>\n",
              "      <th>1</th>\n",
              "      <td>15.743181</td>\n",
              "      <td>15.743181</td>\n",
              "      <td>15.054234</td>\n",
              "      <td>15.496336</td>\n",
              "      <td>203268417</td>\n",
              "    </tr>\n",
              "    <tr>\n",
              "      <th>2</th>\n",
              "      <td>15.509364</td>\n",
              "      <td>15.707174</td>\n",
              "      <td>15.152545</td>\n",
              "      <td>15.191858</td>\n",
              "      <td>200809249</td>\n",
              "    </tr>\n",
              "    <tr>\n",
              "      <th>3</th>\n",
              "      <td>15.191858</td>\n",
              "      <td>15.553175</td>\n",
              "      <td>15.048669</td>\n",
              "      <td>15.309556</td>\n",
              "      <td>219927266</td>\n",
              "    </tr>\n",
              "    <tr>\n",
              "      <th>4</th>\n",
              "      <td>15.348430</td>\n",
              "      <td>15.690587</td>\n",
              "      <td>15.009685</td>\n",
              "      <td>15.279978</td>\n",
              "      <td>237605471</td>\n",
              "    </tr>\n",
              "  </tbody>\n",
              "</table>\n",
              "</div>\n",
              "      <button class=\"colab-df-convert\" onclick=\"convertToInteractive('df-97a95ca4-2fa2-4fa3-a0ef-944b8ef0d943')\"\n",
              "              title=\"Convert this dataframe to an interactive table.\"\n",
              "              style=\"display:none;\">\n",
              "        \n",
              "  <svg xmlns=\"http://www.w3.org/2000/svg\" height=\"24px\"viewBox=\"0 0 24 24\"\n",
              "       width=\"24px\">\n",
              "    <path d=\"M0 0h24v24H0V0z\" fill=\"none\"/>\n",
              "    <path d=\"M18.56 5.44l.94 2.06.94-2.06 2.06-.94-2.06-.94-.94-2.06-.94 2.06-2.06.94zm-11 1L8.5 8.5l.94-2.06 2.06-.94-2.06-.94L8.5 2.5l-.94 2.06-2.06.94zm10 10l.94 2.06.94-2.06 2.06-.94-2.06-.94-.94-2.06-.94 2.06-2.06.94z\"/><path d=\"M17.41 7.96l-1.37-1.37c-.4-.4-.92-.59-1.43-.59-.52 0-1.04.2-1.43.59L10.3 9.45l-7.72 7.72c-.78.78-.78 2.05 0 2.83L4 21.41c.39.39.9.59 1.41.59.51 0 1.02-.2 1.41-.59l7.78-7.78 2.81-2.81c.8-.78.8-2.07 0-2.86zM5.41 20L4 18.59l7.72-7.72 1.47 1.35L5.41 20z\"/>\n",
              "  </svg>\n",
              "      </button>\n",
              "      \n",
              "  <style>\n",
              "    .colab-df-container {\n",
              "      display:flex;\n",
              "      flex-wrap:wrap;\n",
              "      gap: 12px;\n",
              "    }\n",
              "\n",
              "    .colab-df-convert {\n",
              "      background-color: #E8F0FE;\n",
              "      border: none;\n",
              "      border-radius: 50%;\n",
              "      cursor: pointer;\n",
              "      display: none;\n",
              "      fill: #1967D2;\n",
              "      height: 32px;\n",
              "      padding: 0 0 0 0;\n",
              "      width: 32px;\n",
              "    }\n",
              "\n",
              "    .colab-df-convert:hover {\n",
              "      background-color: #E2EBFA;\n",
              "      box-shadow: 0px 1px 2px rgba(60, 64, 67, 0.3), 0px 1px 3px 1px rgba(60, 64, 67, 0.15);\n",
              "      fill: #174EA6;\n",
              "    }\n",
              "\n",
              "    [theme=dark] .colab-df-convert {\n",
              "      background-color: #3B4455;\n",
              "      fill: #D2E3FC;\n",
              "    }\n",
              "\n",
              "    [theme=dark] .colab-df-convert:hover {\n",
              "      background-color: #434B5C;\n",
              "      box-shadow: 0px 1px 3px 1px rgba(0, 0, 0, 0.15);\n",
              "      filter: drop-shadow(0px 1px 2px rgba(0, 0, 0, 0.3));\n",
              "      fill: #FFFFFF;\n",
              "    }\n",
              "  </style>\n",
              "\n",
              "      <script>\n",
              "        const buttonEl =\n",
              "          document.querySelector('#df-97a95ca4-2fa2-4fa3-a0ef-944b8ef0d943 button.colab-df-convert');\n",
              "        buttonEl.style.display =\n",
              "          google.colab.kernel.accessAllowed ? 'block' : 'none';\n",
              "\n",
              "        async function convertToInteractive(key) {\n",
              "          const element = document.querySelector('#df-97a95ca4-2fa2-4fa3-a0ef-944b8ef0d943');\n",
              "          const dataTable =\n",
              "            await google.colab.kernel.invokeFunction('convertToInteractive',\n",
              "                                                     [key], {});\n",
              "          if (!dataTable) return;\n",
              "\n",
              "          const docLinkHtml = 'Like what you see? Visit the ' +\n",
              "            '<a target=\"_blank\" href=https://colab.research.google.com/notebooks/data_table.ipynb>data table notebook</a>'\n",
              "            + ' to learn more about interactive tables.';\n",
              "          element.innerHTML = '';\n",
              "          dataTable['output_type'] = 'display_data';\n",
              "          await google.colab.output.renderOutput(dataTable, element);\n",
              "          const docLink = document.createElement('div');\n",
              "          docLink.innerHTML = docLinkHtml;\n",
              "          element.appendChild(docLink);\n",
              "        }\n",
              "      </script>\n",
              "    </div>\n",
              "  </div>\n",
              "  "
            ]
          },
          "metadata": {},
          "execution_count": 9
        }
      ],
      "source": [
        "#feature selection\n",
        "training_data = data_training.drop(['Date', 'Adj Close'], axis = 1)\n",
        "training_data.head()"
      ]
    },
    {
      "cell_type": "code",
      "execution_count": 10,
      "id": "b99e8790",
      "metadata": {
        "colab": {
          "base_uri": "https://localhost:8080/"
        },
        "id": "b99e8790",
        "outputId": "249966a8-373f-4523-830a-22bc9e7996e4"
      },
      "outputs": [
        {
          "output_type": "execute_result",
          "data": {
            "text/plain": [
              "array([[0.01034271, 0.00901231, 0.01366467, 0.0095001 , 0.00430502],\n",
              "       [0.00956257, 0.00809043, 0.012892  , 0.0091705 , 0.00373573],\n",
              "       [0.00921199, 0.00803753, 0.01304865, 0.00871353, 0.00359794],\n",
              "       ...,\n",
              "       [0.60958939, 0.61817549, 0.64599823, 0.6320253 , 0.0763689 ],\n",
              "       [0.63150323, 0.63242976, 0.67178323, 0.63185661, 0.11162511],\n",
              "       [0.63079565, 0.63357439, 0.67418876, 0.63803224, 0.10372414]])"
            ]
          },
          "metadata": {},
          "execution_count": 10
        }
      ],
      "source": [
        "#Normalizing training_data\n",
        "scaler = MinMaxScaler()\n",
        "training_data = scaler.fit_transform(training_data)\n",
        "training_data"
      ]
    },
    {
      "cell_type": "code",
      "execution_count": 11,
      "id": "b14ab182",
      "metadata": {
        "id": "b14ab182"
      },
      "outputs": [],
      "source": [
        "#Prepare train data\n",
        "X_train = []\n",
        "Y_train = []"
      ]
    },
    {
      "cell_type": "code",
      "execution_count": 12,
      "id": "44626cf7",
      "metadata": {
        "colab": {
          "base_uri": "https://localhost:8080/"
        },
        "id": "44626cf7",
        "outputId": "cd3e0e18-c439-4d36-f633-e14ba4c016c1"
      },
      "outputs": [
        {
          "output_type": "execute_result",
          "data": {
            "text/plain": [
              "851"
            ]
          },
          "metadata": {},
          "execution_count": 12
        }
      ],
      "source": [
        "training_data.shape[0]"
      ]
    },
    {
      "cell_type": "code",
      "execution_count": 13,
      "id": "6e86741f",
      "metadata": {
        "id": "6e86741f"
      },
      "outputs": [],
      "source": [
        "for i in range(60, training_data.shape[0]):\n",
        "    X_train.append(training_data[i-60:i])\n",
        "    Y_train.append(training_data[i,0])"
      ]
    },
    {
      "cell_type": "code",
      "execution_count": 14,
      "id": "78eef3e8",
      "metadata": {
        "colab": {
          "base_uri": "https://localhost:8080/"
        },
        "id": "78eef3e8",
        "outputId": "317b8bf2-8bbc-4527-e04c-b807a1330edd"
      },
      "outputs": [
        {
          "output_type": "execute_result",
          "data": {
            "text/plain": [
              "(791, 60, 5)"
            ]
          },
          "metadata": {},
          "execution_count": 14
        }
      ],
      "source": [
        "X_train, Y_train = np.array(X_train), np.array(Y_train)\n",
        "X_train.shape"
      ]
    },
    {
      "cell_type": "markdown",
      "id": "b6ad79a8",
      "metadata": {
        "id": "b6ad79a8"
      },
      "source": [
        "# Model Building"
      ]
    },
    {
      "cell_type": "code",
      "execution_count": 15,
      "id": "78fb5e3e",
      "metadata": {
        "colab": {
          "base_uri": "https://localhost:8080/"
        },
        "id": "78fb5e3e",
        "outputId": "de07f8ad-f44c-4fda-c065-c30ae1e942a0"
      },
      "outputs": [
        {
          "output_type": "stream",
          "name": "stdout",
          "text": [
            "Model: \"sequential\"\n",
            "_________________________________________________________________\n",
            " Layer (type)                Output Shape              Param #   \n",
            "=================================================================\n",
            " simple_rnn (SimpleRNN)      (None, 60, 128)           17152     \n",
            "                                                                 \n",
            " dropout (Dropout)           (None, 60, 128)           0         \n",
            "                                                                 \n",
            " simple_rnn_1 (SimpleRNN)    (None, 60, 128)           32896     \n",
            "                                                                 \n",
            " dropout_1 (Dropout)         (None, 60, 128)           0         \n",
            "                                                                 \n",
            " simple_rnn_2 (SimpleRNN)    (None, 128)               32896     \n",
            "                                                                 \n",
            " dropout_2 (Dropout)         (None, 128)               0         \n",
            "                                                                 \n",
            " dense (Dense)               (None, 1)                 129       \n",
            "                                                                 \n",
            "=================================================================\n",
            "Total params: 83,073\n",
            "Trainable params: 83,073\n",
            "Non-trainable params: 0\n",
            "_________________________________________________________________\n"
          ]
        }
      ],
      "source": [
        "model = Sequential()\n",
        "# model.add(LSTM(units = 50, activation = 'relu', return_sequences = True, input_shape = (X_train.shape[1], 5)))\n",
        "# model.add(Dropout(0.2))\n",
        "\n",
        "# model.add(LSTM(units = 60, activation = 'relu', return_sequences = True))\n",
        "# model.add(Dropout(0.3))\n",
        "\n",
        "# model.add(LSTM(units = 80, activation = 'relu', return_sequences = True))\n",
        "# model.add(Dropout(0.4))\n",
        "\n",
        "# model.add(LSTM(units = 120, activation = 'relu'))\n",
        "# model.add(Dropout(0.5))\n",
        "\n",
        "# model.add(Dense(units =1))\n",
        "\n",
        "\n",
        "\n",
        "model.add(SimpleRNN(128,activation=\"relu\",return_sequences=True, input_shape=(X_train.shape[1], 5)))\n",
        "model.add(Dropout(0.25))\n",
        "\n",
        "model.add(SimpleRNN(128,activation=\"relu\",return_sequences=True))\n",
        "model.add(Dropout(0.25))\n",
        "\n",
        "model.add(SimpleRNN(128,activation=\"relu\",return_sequences=False))\n",
        "model.add(Dropout(0.25))\n",
        "\n",
        "model.add(Dense(1))\n",
        "\n",
        "model.summary()"
      ]
    },
    {
      "cell_type": "code",
      "source": [
        "model.compile(optimizer = 'adam', loss = 'mean_squared_error')\n",
        "history = model.fit(X_train, Y_train, epochs = 50, batch_size =32)"
      ],
      "metadata": {
        "colab": {
          "base_uri": "https://localhost:8080/"
        },
        "id": "y3lXp56tQDWY",
        "outputId": "56832f7e-f4d8-49cd-b851-c58086fff199"
      },
      "id": "y3lXp56tQDWY",
      "execution_count": 16,
      "outputs": [
        {
          "output_type": "stream",
          "name": "stdout",
          "text": [
            "Epoch 1/50\n",
            "25/25 [==============================] - 8s 135ms/step - loss: 0.0318\n",
            "Epoch 2/50\n",
            "25/25 [==============================] - 3s 134ms/step - loss: 0.0093\n",
            "Epoch 3/50\n",
            "25/25 [==============================] - 4s 146ms/step - loss: 0.0079\n",
            "Epoch 4/50\n",
            "25/25 [==============================] - 2s 79ms/step - loss: 0.0053\n",
            "Epoch 5/50\n",
            "25/25 [==============================] - 2s 71ms/step - loss: 0.0053\n",
            "Epoch 6/50\n",
            "25/25 [==============================] - 2s 68ms/step - loss: 0.0055\n",
            "Epoch 7/50\n",
            "25/25 [==============================] - 2s 68ms/step - loss: 0.0059\n",
            "Epoch 8/50\n",
            "25/25 [==============================] - 2s 67ms/step - loss: 0.0052\n",
            "Epoch 9/50\n",
            "25/25 [==============================] - 2s 69ms/step - loss: 0.0040\n",
            "Epoch 10/50\n",
            "25/25 [==============================] - 2s 68ms/step - loss: 0.0039\n",
            "Epoch 11/50\n",
            "25/25 [==============================] - 2s 67ms/step - loss: 0.0038\n",
            "Epoch 12/50\n",
            "25/25 [==============================] - 2s 67ms/step - loss: 0.0048\n",
            "Epoch 13/50\n",
            "25/25 [==============================] - 2s 68ms/step - loss: 0.0041\n",
            "Epoch 14/50\n",
            "25/25 [==============================] - 2s 67ms/step - loss: 0.0041\n",
            "Epoch 15/50\n",
            "25/25 [==============================] - 2s 67ms/step - loss: 0.0036\n",
            "Epoch 16/50\n",
            "25/25 [==============================] - 2s 70ms/step - loss: 0.0041\n",
            "Epoch 17/50\n",
            "25/25 [==============================] - 2s 67ms/step - loss: 0.0034\n",
            "Epoch 18/50\n",
            "25/25 [==============================] - 2s 69ms/step - loss: 0.0047\n",
            "Epoch 19/50\n",
            "25/25 [==============================] - 2s 68ms/step - loss: 0.0036\n",
            "Epoch 20/50\n",
            "25/25 [==============================] - 2s 68ms/step - loss: 0.0030\n",
            "Epoch 21/50\n",
            "25/25 [==============================] - 2s 69ms/step - loss: 0.0032\n",
            "Epoch 22/50\n",
            "25/25 [==============================] - 2s 68ms/step - loss: 0.0032\n",
            "Epoch 23/50\n",
            "25/25 [==============================] - 2s 68ms/step - loss: 0.0029\n",
            "Epoch 24/50\n",
            "25/25 [==============================] - 2s 69ms/step - loss: 0.0035\n",
            "Epoch 25/50\n",
            "25/25 [==============================] - 2s 68ms/step - loss: 0.0029\n",
            "Epoch 26/50\n",
            "25/25 [==============================] - 2s 68ms/step - loss: 0.0029\n",
            "Epoch 27/50\n",
            "25/25 [==============================] - 2s 68ms/step - loss: 0.0028\n",
            "Epoch 28/50\n",
            "25/25 [==============================] - 2s 69ms/step - loss: 0.0027\n",
            "Epoch 29/50\n",
            "25/25 [==============================] - 2s 67ms/step - loss: 0.0024\n",
            "Epoch 30/50\n",
            "25/25 [==============================] - 2s 68ms/step - loss: 0.0024\n",
            "Epoch 31/50\n",
            "25/25 [==============================] - 2s 69ms/step - loss: 0.0022\n",
            "Epoch 32/50\n",
            "25/25 [==============================] - 2s 68ms/step - loss: 0.0025\n",
            "Epoch 33/50\n",
            "25/25 [==============================] - 2s 68ms/step - loss: 0.0026\n",
            "Epoch 34/50\n",
            "25/25 [==============================] - 2s 68ms/step - loss: 0.0024\n",
            "Epoch 35/50\n",
            "25/25 [==============================] - 2s 67ms/step - loss: 0.0024\n",
            "Epoch 36/50\n",
            "25/25 [==============================] - 2s 67ms/step - loss: 0.0021\n",
            "Epoch 37/50\n",
            "25/25 [==============================] - 2s 68ms/step - loss: 0.0022\n",
            "Epoch 38/50\n",
            "25/25 [==============================] - 2s 67ms/step - loss: 0.0018\n",
            "Epoch 39/50\n",
            "25/25 [==============================] - 2s 68ms/step - loss: 0.0026\n",
            "Epoch 40/50\n",
            "25/25 [==============================] - 2s 68ms/step - loss: 0.0029\n",
            "Epoch 41/50\n",
            "25/25 [==============================] - 2s 67ms/step - loss: 0.0024\n",
            "Epoch 42/50\n",
            "25/25 [==============================] - 2s 68ms/step - loss: 0.0021\n",
            "Epoch 43/50\n",
            "25/25 [==============================] - 2s 68ms/step - loss: 0.0018\n",
            "Epoch 44/50\n",
            "25/25 [==============================] - 2s 68ms/step - loss: 0.0023\n",
            "Epoch 45/50\n",
            "25/25 [==============================] - 2s 68ms/step - loss: 0.0019\n",
            "Epoch 46/50\n",
            "25/25 [==============================] - 2s 70ms/step - loss: 0.0023\n",
            "Epoch 47/50\n",
            "25/25 [==============================] - 2s 68ms/step - loss: 0.0026\n",
            "Epoch 48/50\n",
            "25/25 [==============================] - 2s 69ms/step - loss: 0.0026\n",
            "Epoch 49/50\n",
            "25/25 [==============================] - 2s 68ms/step - loss: 0.0020\n",
            "Epoch 50/50\n",
            "25/25 [==============================] - 2s 68ms/step - loss: 0.0019\n"
          ]
        }
      ]
    },
    {
      "cell_type": "code",
      "source": [
        "loss = history.history['loss']\n",
        "\n",
        "epochs = range(len(loss))\n",
        "\n",
        "plt.plot(epochs, loss, 'r', label='Training loss')\n",
        "plt.title('Training loss')\n",
        "plt.legend(loc=0)\n",
        "plt.figure()\n",
        "\n",
        "plt.show()"
      ],
      "metadata": {
        "id": "WQa-i79bSD77",
        "colab": {
          "base_uri": "https://localhost:8080/",
          "height": 298
        },
        "outputId": "83cdcf63-b3da-40a2-fe96-318e96f8f4a4"
      },
      "id": "WQa-i79bSD77",
      "execution_count": 17,
      "outputs": [
        {
          "output_type": "display_data",
          "data": {
            "text/plain": [
              "<Figure size 432x288 with 1 Axes>"
            ],
            "image/png": "[encoded data removed]"
          },
          "metadata": {
            "needs_background": "light"
          }
        },
        {
          "output_type": "display_data",
          "data": {
            "text/plain": [
              "<Figure size 432x288 with 0 Axes>"
            ]
          },
          "metadata": {}
        }
      ]
    },
    {
      "cell_type": "markdown",
      "source": [
        "# **Performance Evaluation**"
      ],
      "metadata": {
        "id": "s2hK_75TRtQ4"
      },
      "id": "s2hK_75TRtQ4"
    },
    {
      "cell_type": "code",
      "source": [
        "past_60_days = data_training.tail(60)\n",
        "df= past_60_days.append(data_test, ignore_index = True)\n",
        "df = df.drop(['Date', 'Adj Close'], axis = 1)\n",
        "df.head()"
      ],
      "metadata": {
        "colab": {
          "base_uri": "https://localhost:8080/",
          "height": 206
        },
        "id": "2IocLZ5mRmCk",
        "outputId": "8ca948bc-a996-47fb-ca22-e58357ca5c68"
      },
      "id": "2IocLZ5mRmCk",
      "execution_count": 18,
      "outputs": [
        {
          "output_type": "execute_result",
          "data": {
            "text/plain": [
              "         Open        High         Low       Close      Volume\n",
              "0  386.065735  396.772278  381.683777  389.132782  1330610935\n",
              "1  389.202209  389.247192  373.036285  377.612915  1289330238\n",
              "2  377.648987  384.977386  366.112030  375.277313  1386778184\n",
              "3  375.099182  387.767548  374.326843  385.463806  1392647608\n",
              "4  385.488770  386.114716  366.895386  367.471680  1290849744"
            ],
            "text/html": [
              "\n",
              "  <div id=\"df-4645774c-2645-4ce1-9ffb-1926e0627e8f\">\n",
              "    <div class=\"colab-df-container\">\n",
              "      <div>\n",
              "<style scoped>\n",
              "    .dataframe tbody tr th:only-of-type {\n",
              "        vertical-align: middle;\n",
              "    }\n",
              "\n",
              "    .dataframe tbody tr th {\n",
              "        vertical-align: top;\n",
              "    }\n",
              "\n",
              "    .dataframe thead th {\n",
              "        text-align: right;\n",
              "    }\n",
              "</style>\n",
              "<table border=\"1\" class=\"dataframe\">\n",
              "  <thead>\n",
              "    <tr style=\"text-align: right;\">\n",
              "      <th></th>\n",
              "      <th>Open</th>\n",
              "      <th>High</th>\n",
              "      <th>Low</th>\n",
              "      <th>Close</th>\n",
              "      <th>Volume</th>\n",
              "    </tr>\n",
              "  </thead>\n",
              "  <tbody>\n",
              "    <tr>\n",
              "      <th>0</th>\n",
              "      <td>386.065735</td>\n",
              "      <td>396.772278</td>\n",
              "      <td>381.683777</td>\n",
              "      <td>389.132782</td>\n",
              "      <td>1330610935</td>\n",
              "    </tr>\n",
              "    <tr>\n",
              "      <th>1</th>\n",
              "      <td>389.202209</td>\n",
              "      <td>389.247192</td>\n",
              "      <td>373.036285</td>\n",
              "      <td>377.612915</td>\n",
              "      <td>1289330238</td>\n",
              "    </tr>\n",
              "    <tr>\n",
              "      <th>2</th>\n",
              "      <td>377.648987</td>\n",
              "      <td>384.977386</td>\n",
              "      <td>366.112030</td>\n",
              "      <td>375.277313</td>\n",
              "      <td>1386778184</td>\n",
              "    </tr>\n",
              "    <tr>\n",
              "      <th>3</th>\n",
              "      <td>375.099182</td>\n",
              "      <td>387.767548</td>\n",
              "      <td>374.326843</td>\n",
              "      <td>385.463806</td>\n",
              "      <td>1392647608</td>\n",
              "    </tr>\n",
              "    <tr>\n",
              "      <th>4</th>\n",
              "      <td>385.488770</td>\n",
              "      <td>386.114716</td>\n",
              "      <td>366.895386</td>\n",
              "      <td>367.471680</td>\n",
              "      <td>1290849744</td>\n",
              "    </tr>\n",
              "  </tbody>\n",
              "</table>\n",
              "</div>\n",
              "      <button class=\"colab-df-convert\" onclick=\"convertToInteractive('df-4645774c-2645-4ce1-9ffb-1926e0627e8f')\"\n",
              "              title=\"Convert this dataframe to an interactive table.\"\n",
              "              style=\"display:none;\">\n",
              "        \n",
              "  <svg xmlns=\"http://www.w3.org/2000/svg\" height=\"24px\"viewBox=\"0 0 24 24\"\n",
              "       width=\"24px\">\n",
              "    <path d=\"M0 0h24v24H0V0z\" fill=\"none\"/>\n",
              "    <path d=\"M18.56 5.44l.94 2.06.94-2.06 2.06-.94-2.06-.94-.94-2.06-.94 2.06-2.06.94zm-11 1L8.5 8.5l.94-2.06 2.06-.94-2.06-.94L8.5 2.5l-.94 2.06-2.06.94zm10 10l.94 2.06.94-2.06 2.06-.94-2.06-.94-.94-2.06-.94 2.06-2.06.94z\"/><path d=\"M17.41 7.96l-1.37-1.37c-.4-.4-.92-.59-1.43-.59-.52 0-1.04.2-1.43.59L10.3 9.45l-7.72 7.72c-.78.78-.78 2.05 0 2.83L4 21.41c.39.39.9.59 1.41.59.51 0 1.02-.2 1.41-.59l7.78-7.78 2.81-2.81c.8-.78.8-2.07 0-2.86zM5.41 20L4 18.59l7.72-7.72 1.47 1.35L5.41 20z\"/>\n",
              "  </svg>\n",
              "      </button>\n",
              "      \n",
              "  <style>\n",
              "    .colab-df-container {\n",
              "      display:flex;\n",
              "      flex-wrap:wrap;\n",
              "      gap: 12px;\n",
              "    }\n",
              "\n",
              "    .colab-df-convert {\n",
              "      background-color: #E8F0FE;\n",
              "      border: none;\n",
              "      border-radius: 50%;\n",
              "      cursor: pointer;\n",
              "      display: none;\n",
              "      fill: #1967D2;\n",
              "      height: 32px;\n",
              "      padding: 0 0 0 0;\n",
              "      width: 32px;\n",
              "    }\n",
              "\n",
              "    .colab-df-convert:hover {\n",
              "      background-color: #E2EBFA;\n",
              "      box-shadow: 0px 1px 2px rgba(60, 64, 67, 0.3), 0px 1px 3px 1px rgba(60, 64, 67, 0.15);\n",
              "      fill: #174EA6;\n",
              "    }\n",
              "\n",
              "    [theme=dark] .colab-df-convert {\n",
              "      background-color: #3B4455;\n",
              "      fill: #D2E3FC;\n",
              "    }\n",
              "\n",
              "    [theme=dark] .colab-df-convert:hover {\n",
              "      background-color: #434B5C;\n",
              "      box-shadow: 0px 1px 3px 1px rgba(0, 0, 0, 0.15);\n",
              "      filter: drop-shadow(0px 1px 2px rgba(0, 0, 0, 0.3));\n",
              "      fill: #FFFFFF;\n",
              "    }\n",
              "  </style>\n",
              "\n",
              "      <script>\n",
              "        const buttonEl =\n",
              "          document.querySelector('#df-4645774c-2645-4ce1-9ffb-1926e0627e8f button.colab-df-convert');\n",
              "        buttonEl.style.display =\n",
              "          google.colab.kernel.accessAllowed ? 'block' : 'none';\n",
              "\n",
              "        async function convertToInteractive(key) {\n",
              "          const element = document.querySelector('#df-4645774c-2645-4ce1-9ffb-1926e0627e8f');\n",
              "          const dataTable =\n",
              "            await google.colab.kernel.invokeFunction('convertToInteractive',\n",
              "                                                     [key], {});\n",
              "          if (!dataTable) return;\n",
              "\n",
              "          const docLinkHtml = 'Like what you see? Visit the ' +\n",
              "            '<a target=\"_blank\" href=https://colab.research.google.com/notebooks/data_table.ipynb>data table notebook</a>'\n",
              "            + ' to learn more about interactive tables.';\n",
              "          element.innerHTML = '';\n",
              "          dataTable['output_type'] = 'display_data';\n",
              "          await google.colab.output.renderOutput(dataTable, element);\n",
              "          const docLink = document.createElement('div');\n",
              "          docLink.innerHTML = docLinkHtml;\n",
              "          element.appendChild(docLink);\n",
              "        }\n",
              "      </script>\n",
              "    </div>\n",
              "  </div>\n",
              "  "
            ]
          },
          "metadata": {},
          "execution_count": 18
        }
      ]
    },
    {
      "cell_type": "code",
      "source": [
        "inputs = scaler.transform(df)\n",
        "inputs"
      ],
      "metadata": {
        "colab": {
          "base_uri": "https://localhost:8080/"
        },
        "id": "jOmLBOLyRxS5",
        "outputId": "3a607c4c-18c4-4e59-8b32-950b18222519"
      },
      "id": "jOmLBOLyRxS5",
      "execution_count": 19,
      "outputs": [
        {
          "output_type": "execute_result",
          "data": {
            "text/plain": [
              "array([[0.56481001, 0.56785449, 0.59708203, 0.56993524, 0.06690511],\n",
              "       [0.56951272, 0.5567995 , 0.58330305, 0.55264588, 0.06459199],\n",
              "       [0.55219026, 0.5505268 , 0.5722699 , 0.54914054, 0.07005238],\n",
              "       ...,\n",
              "       [0.44686097, 0.43905075, 0.4501857 , 0.42644761, 0.05705537],\n",
              "       [0.42600823, 0.43277293, 0.45061585, 0.42940562, 0.04762053],\n",
              "       [0.42909151, 0.43252048, 0.4579752 , 0.43735427, 0.04891876]])"
            ]
          },
          "metadata": {},
          "execution_count": 19
        }
      ]
    },
    {
      "cell_type": "code",
      "source": [
        "X_test = []\n",
        "Y_test = []\n",
        "for i in range (60, inputs.shape[0]):\n",
        "    X_test.append(inputs[i-60:i])\n",
        "    Y_test.append(inputs[i, 0])"
      ],
      "metadata": {
        "id": "zPyFzpPSTS3Z"
      },
      "id": "zPyFzpPSTS3Z",
      "execution_count": 20,
      "outputs": []
    },
    {
      "cell_type": "code",
      "source": [
        "X_test, Y_test = np.array(X_test), np.array(Y_test)\n",
        "X_test.shape, Y_test.shape"
      ],
      "metadata": {
        "colab": {
          "base_uri": "https://localhost:8080/"
        },
        "id": "I23fn-LUTVP0",
        "outputId": "83d52eac-7166-4b54-bab2-6627093ab8ba"
      },
      "id": "I23fn-LUTVP0",
      "execution_count": 21,
      "outputs": [
        {
          "output_type": "execute_result",
          "data": {
            "text/plain": [
              "((245, 60, 5), (245,))"
            ]
          },
          "metadata": {},
          "execution_count": 21
        }
      ]
    },
    {
      "cell_type": "code",
      "source": [
        "Y_pred = model.predict(X_test)"
      ],
      "metadata": {
        "colab": {
          "base_uri": "https://localhost:8080/"
        },
        "id": "wNSE3eSrTXuY",
        "outputId": "4ac4c12e-906e-4f04-9d93-d1ab4119f060"
      },
      "id": "wNSE3eSrTXuY",
      "execution_count": 22,
      "outputs": [
        {
          "output_type": "stream",
          "name": "stdout",
          "text": [
            "8/8 [==============================] - 0s 16ms/step\n"
          ]
        }
      ]
    },
    {
      "cell_type": "code",
      "source": [
        "print(\"RMSE: \", math.sqrt(mean_squared_error(Y_test,Y_pred)))\n",
        "print(\"MSE: \", mean_squared_error(Y_test,Y_pred))\n",
        "print(\"MAE: \", mean_absolute_error(Y_test,Y_pred))\n",
        "print(\"R2 score:\", r2_score(Y_test, Y_pred))"
      ],
      "metadata": {
        "colab": {
          "base_uri": "https://localhost:8080/"
        },
        "id": "2hSSiorLg7CQ",
        "outputId": "42872797-bd5d-46e5-bc25-ab7366621cb2"
      },
      "id": "2hSSiorLg7CQ",
      "execution_count": 23,
      "outputs": [
        {
          "output_type": "stream",
          "name": "stdout",
          "text": [
            "RMSE:  0.029651274049397942\n",
            "MSE:  0.0008791980527524998\n",
            "MAE:  0.02303926650129738\n",
            "R2 score: 0.8769912100756387\n"
          ]
        }
      ]
    },
    {
      "cell_type": "code",
      "source": [
        "scaler.scale_"
      ],
      "metadata": {
        "colab": {
          "base_uri": "https://localhost:8080/"
        },
        "id": "jyX-apd0TbIA",
        "outputId": "64af7a13-12d2-49ca-e1e7-c7e889c27e9b"
      },
      "id": "jyX-apd0TbIA",
      "execution_count": 24,
      "outputs": [
        {
          "output_type": "execute_result",
          "data": {
            "text/plain": [
              "array([1.49936165e-03, 1.46908483e-03, 1.59340684e-03, 1.50082989e-03,\n",
              "       5.60338796e-11])"
            ]
          },
          "metadata": {},
          "execution_count": 24
        }
      ]
    },
    {
      "cell_type": "code",
      "source": [
        "scale = 1/5.18164146e-05\n",
        "scale"
      ],
      "metadata": {
        "colab": {
          "base_uri": "https://localhost:8080/"
        },
        "id": "wmlBjhTpTi6_",
        "outputId": "64b9392a-2bcd-42fd-ef57-6108ee587812"
      },
      "id": "wmlBjhTpTi6_",
      "execution_count": 25,
      "outputs": [
        {
          "output_type": "execute_result",
          "data": {
            "text/plain": [
              "19298.903787912797"
            ]
          },
          "metadata": {},
          "execution_count": 25
        }
      ]
    },
    {
      "cell_type": "code",
      "source": [
        "Y_test = Y_test*scale\n",
        "Y_pred = Y_pred*scale"
      ],
      "metadata": {
        "id": "Kc5IbNRtTlKO"
      },
      "id": "Kc5IbNRtTlKO",
      "execution_count": 26,
      "outputs": []
    },
    {
      "cell_type": "code",
      "source": [
        "# Y_test = scaler.inverse_transform(Y_test)\n",
        "# Y_pred = scaler.inverse_transform(Y_pred) "
      ],
      "metadata": {
        "id": "7DNFvoh2vqx_"
      },
      "id": "7DNFvoh2vqx_",
      "execution_count": 27,
      "outputs": []
    },
    {
      "cell_type": "code",
      "source": [
        "plt.figure(figsize=(14,5))\n",
        "plt.plot(Y_test, color = 'red', label = 'Actual BinanceCoin Price')\n",
        "plt.plot(Y_pred, color = 'green', label = 'Predicted BinanceCoin Price')\n",
        "plt.title('BinanceCoin Price Prediction using RNN')\n",
        "plt.xlabel('Time')\n",
        "plt.ylabel('Price')\n",
        "plt.legend()\n",
        "plt.show()"
      ],
      "metadata": {
        "colab": {
          "base_uri": "https://localhost:8080/",
          "height": 350
        },
        "id": "A_4WsiY4TqC3",
        "outputId": "146f0f01-b963-40c4-a222-eb7597db7d29"
      },
      "id": "A_4WsiY4TqC3",
      "execution_count": 28,
      "outputs": [
        {
          "output_type": "display_data",
          "data": {
            "text/plain": [
              "<Figure size 1008x360 with 1 Axes>"
            ],
            "image/png": "[encoded data removed]"
          },
          "metadata": {
            "needs_background": "light"
          }
        }
      ]
    }
  ],
  "metadata": {
    "kernelspec": {
      "display_name": "Python 3 (ipykernel)",
      "language": "python",
      "name": "python3"
    },
    "language_info": {
      "codemirror_mode": {
        "name": "ipython",
        "version": 3
      },
      "file_extension": ".py",
      "mimetype": "text/x-python",
      "name": "python",
      "nbconvert_exporter": "python",
      "pygments_lexer": "ipython3",
      "version": "3.9.12"
    },
    "colab": {
      "provenance": []
    }
  },
  "nbformat": 4,
  "nbformat_minor": 5
}